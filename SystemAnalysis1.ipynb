{
 "cells": [
  {
   "cell_type": "code",
   "execution_count": 180,
   "metadata": {
    "collapsed": false
   },
   "outputs": [],
   "source": [
    "import numpy as np\n",
    "\n",
    "import pandas as pd\n",
    "\n",
    "import sympy as sp\n",
    "from sympy import init_printing;\n",
    "init_printing()\n",
    "\n",
    "import matplotlib.pyplot as plt\n",
    "%matplotlib inline"
   ]
  },
  {
   "cell_type": "code",
   "execution_count": 185,
   "metadata": {
    "collapsed": false
   },
   "outputs": [],
   "source": [
    "f1 = lambda x: 9-6*x+x**2\n",
    "f2 = lambda x: 18 - 9*x - 0.1*x**2\n",
    "f1_star = 45\n",
    "f2_star = 10\n",
    "x_min = -5\n",
    "x_max = 4\n",
    "x_0_01 = np.linspace(x_min,x_max, 901)"
   ]
  },
  {
   "cell_type": "code",
   "execution_count": 182,
   "metadata": {
    "collapsed": false
   },
   "outputs": [
    {
     "data": {
      "image/png": "[encoded data removed]",
      "text/latex": [
       "$$\\left [ \\left[- 3 \\sqrt{5} + 3, 3 + 3 \\sqrt{5}\\right]\\right ]$$"
      ],
      "text/plain": [
       "[[-3⋅√5 + 3, 3 + 3⋅√5]]"
      ]
     },
     "execution_count": 182,
     "metadata": {},
     "output_type": "execute_result"
    }
   ],
   "source": [
    "#f1<=f1_star\n",
    "solve_poly_inequality(Poly(9-6*x+x**2 - 45, x, domain='RR'), '<=')\n",
    "#take left here"
   ]
  },
  {
   "cell_type": "code",
   "execution_count": 183,
   "metadata": {
    "collapsed": false
   },
   "outputs": [
    {
     "data": {
      "image/png": "[encoded data removed]",
      "text/latex": [
       "$$\\left [ \\left[- \\sqrt{2105} - 45, -45 + \\sqrt{2105}\\right]\\right ]$$"
      ],
      "text/plain": [
       "[[-√2105 - 45, -45 + √2105]]"
      ]
     },
     "execution_count": 183,
     "metadata": {},
     "output_type": "execute_result"
    }
   ],
   "source": [
    "#f2>=f2_star\n",
    "solve_poly_inequality(Poly(18 - 9*x - 0.1*x**2 - 10, x, domain='RR'), '>=')\n",
    "#take right here"
   ]
  },
  {
   "cell_type": "code",
   "execution_count": 184,
   "metadata": {
    "collapsed": false
   },
   "outputs": [
    {
     "data": {
      "text/plain": [
       "<matplotlib.collections.PolyCollection at 0x7f78d4bbab50>"
      ]
     },
     "execution_count": 184,
     "metadata": {},
     "output_type": "execute_result"
    },
    {
     "data": {
      "text/plain": [
       "<matplotlib.figure.Figure at 0x7f78d4c32a90>"
      ]
     },
     "metadata": {},
     "output_type": "display_data"
    },
    {
     "data": {
      "image/png": "[encoded data removed]",
      "text/plain": [
       "<matplotlib.figure.Figure at 0x7f78d70ee150>"
      ]
     },
     "metadata": {},
     "output_type": "display_data"
    }
   ],
   "source": [
    "plt.figure()\n",
    "fig, ax = plt.subplots()\n",
    "plt.plot(x_0_01,f1(x_0_01), x_0_01, f2(x_0_01), 'r')\n",
    "plt.xticks(np.arange(-5,4,0.5))\n",
    "plt.plot((-5, 4), (45, 45), 'b--')\n",
    "plt.plot((-5, 4), (10, 10), 'r--')\n",
    "plt.grid(True)\n",
    "plt.plot()\n",
    "ax.fill_between(np.linspace(float(sp.solve(9-6*x+x**2 - 45, x)[1]),float(sp.solve(18 - 9*x - 0.1*x**2 - 10, x)[1]), 100), -20,70, facecolor='yellow')\n"
   ]
  },
  {
   "cell_type": "code",
   "execution_count": null,
   "metadata": {
    "collapsed": true
   },
   "outputs": [],
   "source": []
  }
 ],
 "metadata": {
  "kernelspec": {
   "display_name": "Python [Root]",
   "language": "python",
   "name": "Python [Root]"
  },
  "language_info": {
   "codemirror_mode": {
    "name": "ipython",
    "version": 2
   },
   "file_extension": ".py",
   "mimetype": "text/x-python",
   "name": "python",
   "nbconvert_exporter": "python",
   "pygments_lexer": "ipython2",
   "version": "2.7.12"
  }
 },
 "nbformat": 4,
 "nbformat_minor": 0
}
