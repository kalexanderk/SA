{
 "cells": [
  {
   "cell_type": "markdown",
   "metadata": {},
   "source": [
    "### Завдання 1"
   ]
  },
  {
   "cell_type": "markdown",
   "metadata": {},
   "source": [
    "При заданих цільових функціях і порогових обмеженнях визначити область Парето на заданому інтервалі при виконанні обмежень. Звузити область Парето, використовуючи прийоми технічних обмежень."
   ]
  },
  {
   "cell_type": "code",
   "execution_count": 1,
   "metadata": {
    "collapsed": false
   },
   "outputs": [],
   "source": [
    "import numpy as np\n",
    "\n",
    "import pandas as pd\n",
    "\n",
    "import sympy as sp\n",
    "from sympy.abc import x\n",
    "from sympy import init_printing;\n",
    "init_printing()\n",
    "\n",
    "import matplotlib.patches as mpatches\n",
    "import matplotlib.pyplot as plt\n",
    "%matplotlib inline"
   ]
  },
  {
   "cell_type": "code",
   "execution_count": 2,
   "metadata": {
    "collapsed": false
   },
   "outputs": [],
   "source": [
    "f1 = lambda x: 9-6*x+x**2\n",
    "f2 = lambda x: 18 - 9*x - 0.1*x**2\n",
    "f1_star = 45\n",
    "f2_star = 10\n",
    "x_min = -5\n",
    "x_max = 4\n",
    "x_0_01 = np.linspace(x_min,x_max, 901)"
   ]
  },
  {
   "cell_type": "markdown",
   "metadata": {},
   "source": [
    "Розв'яжемо нерівність f1<=f1\\*:"
   ]
  },
  {
   "cell_type": "code",
   "execution_count": 3,
   "metadata": {
    "collapsed": false,
    "scrolled": true
   },
   "outputs": [
    {
     "data": {
      "image/png": "[encoded data removed]",
      "text/latex": [
       "$$\\left [ \\left[- 3 \\sqrt{5} + 3, 3 + 3 \\sqrt{5}\\right]\\right ]$$"
      ],
      "text/plain": [
       "[[-3⋅√5 + 3, 3 + 3⋅√5]]"
      ]
     },
     "execution_count": 3,
     "metadata": {},
     "output_type": "execute_result"
    }
   ],
   "source": [
    "#f1<=f1_star\n",
    "sp.solve_poly_inequality(sp.Poly(9-6*x+x**2 - 45, x, domain='RR'), '<=')\n",
    "#take left here"
   ]
  },
  {
   "cell_type": "markdown",
   "metadata": {},
   "source": [
    "Розв'яжемо нерівність f2<=f2\\*:"
   ]
  },
  {
   "cell_type": "code",
   "execution_count": 4,
   "metadata": {
    "collapsed": false,
    "scrolled": true
   },
   "outputs": [
    {
     "data": {
      "image/png": "[encoded data removed]",
      "text/latex": [
       "$$\\left [ \\left[- \\sqrt{2105} - 45, -45 + \\sqrt{2105}\\right]\\right ]$$"
      ],
      "text/plain": [
       "[[-√2105 - 45, -45 + √2105]]"
      ]
     },
     "execution_count": 4,
     "metadata": {},
     "output_type": "execute_result"
    }
   ],
   "source": [
    "#f2>=f2_star\n",
    "sp.solve_poly_inequality(sp.Poly(18 - 9*x - 0.1*x**2 - 10, x, domain='RR'), '>=')\n",
    "#take right here"
   ]
  },
  {
   "cell_type": "markdown",
   "metadata": {},
   "source": [
    "Будуємо графіки і зображуємо область Парето:"
   ]
  },
  {
   "cell_type": "code",
   "execution_count": 5,
   "metadata": {
    "collapsed": false
   },
   "outputs": [
    {
     "data": {
      "text/plain": [
       "<matplotlib.legend.Legend at 0x7f0724fc7c10>"
      ]
     },
     "execution_count": 5,
     "metadata": {},
     "output_type": "execute_result"
    },
    {
     "data": {
      "text/plain": [
       "<matplotlib.figure.Figure at 0x7f0727434490>"
      ]
     },
     "metadata": {},
     "output_type": "display_data"
    },
    {
     "data": {
      "image/png": "[encoded data removed]",
      "text/plain": [
       "<matplotlib.figure.Figure at 0x7f0727434450>"
      ]
     },
     "metadata": {},
     "output_type": "display_data"
    }
   ],
   "source": [
    "plt.figure(1)\n",
    "fig1, ax1 = plt.subplots()\n",
    "plt.plot(x_0_01,f1(x_0_01), 'b', x_0_01, f2(x_0_01), 'r')\n",
    "plt.xticks(np.arange(-5,4,0.5))\n",
    "plt.plot((-5, 4), (45, 45), 'b--')\n",
    "plt.plot((-5, 4), (10, 10), 'r--')\n",
    "plt.grid(True)\n",
    "plt.plot()\n",
    "ax1.fill_between(np.linspace(float(sp.solve(9-6*x+x**2 - 45, x)[1]),float(sp.solve(18 - 9*x - 0.1*x**2 - 10, x)[1]), 100), -20,70, facecolor='#F9966B')\n",
    "plt.title('f1, f2 & Pareto area')\n",
    "blue_patch = mpatches.Patch(color='blue', label=\"f1(x)\")\n",
    "red_patch = mpatches.Patch(color='red', label='f2(x)')\n",
    "plt.legend(handles=[blue_patch, red_patch])"
   ]
  },
  {
   "cell_type": "markdown",
   "metadata": {},
   "source": [
    "Застосовуємо метод технічних обмежень. Для цього зображуємо графіки f1/f1\\*, f2/f2\\*."
   ]
  },
  {
   "cell_type": "code",
   "execution_count": 8,
   "metadata": {
    "collapsed": false,
    "scrolled": false
   },
   "outputs": [
    {
     "name": "stdout",
     "output_type": "stream",
     "text": [
      "Pareto_left = -3.708000. \n",
      "Pareto right = 0.880000.\n",
      "Pareto_right - Pareto_left = 4.588000.\n",
      "Number of intervals (by 0.001): 4589.\n"
     ]
    }
   ],
   "source": [
    "print\"Pareto_left = %f. \\nPareto right = %f.\\nPareto_right - Pareto_left = %f.\"%(round(float(-3*np.sqrt(5)+3),3), round(float(np.sqrt(2105)-45),3), round(round(float(np.sqrt(2105)-45),3)-round(float(-3*np.sqrt(5)+3),3),3))\n",
    "num_intervals_1 = int(round(round(float(np.sqrt(2105)-45),3)-round(float(-3*np.sqrt(5)+3),3),3)/0.001)+1\n",
    "print\"Number of intervals (by 0.001): %i.\"%(num_intervals_1)\n",
    "\n",
    "x_Pareto_0_001=np.linspace(round(float(-3*np.sqrt(5)+3),3),round(float(np.sqrt(2105)-45),3), num_intervals_1)"
   ]
  },
  {
   "cell_type": "code",
   "execution_count": 9,
   "metadata": {
    "collapsed": false
   },
   "outputs": [],
   "source": [
    "def max_df_1(x, y):\n",
    "    returnvec=np.zeros(x.shape)\n",
    "    for i in range(0, x.shape[0]):\n",
    "        if x.iloc[i]<y.iloc[i]:\n",
    "            returnvec[i]=y.iloc[i]\n",
    "        else:\n",
    "            returnvec[i]=x.iloc[i]\n",
    "    return returnvec\n",
    "def min_df_1(x, y):\n",
    "    returnvec=np.zeros(x.shape)\n",
    "    for i in range(0, x.shape[0]):\n",
    "        if x.iloc[i]>y.iloc[i]:\n",
    "            returnvec[i]=y.iloc[i]\n",
    "        else:\n",
    "            returnvec[i]=x.iloc[i]\n",
    "    return returnvec"
   ]
  },
  {
   "cell_type": "code",
   "execution_count": 10,
   "metadata": {
    "collapsed": false
   },
   "outputs": [
    {
     "name": "stderr",
     "output_type": "stream",
     "text": [
      "/home/alextr/anaconda2/lib/python2.7/site-packages/pandas/core/indexing.py:132: SettingWithCopyWarning: \n",
      "A value is trying to be set on a copy of a slice from a DataFrame\n",
      "\n",
      "See the caveats in the documentation: http://pandas.pydata.org/pandas-docs/stable/indexing.html#indexing-view-versus-copy\n",
      "  self._setitem_with_indexer(indexer, value)\n"
     ]
    },
    {
     "data": {
      "text/html": [
       "<div>\n",
       "<table border=\"1\" class=\"dataframe\">\n",
       "  <thead>\n",
       "    <tr style=\"text-align: right;\">\n",
       "      <th></th>\n",
       "      <th>f1/f1*</th>\n",
       "      <th>f2/f2*</th>\n",
       "      <th>max(f_i/f_i*)</th>\n",
       "      <th>min(max(f_i/f_i*))</th>\n",
       "      <th>min(f_i/f_i*)</th>\n",
       "      <th>max(min(f_i/f_i*))</th>\n",
       "    </tr>\n",
       "  </thead>\n",
       "  <tbody>\n",
       "    <tr>\n",
       "      <th>-3.708</th>\n",
       "      <td>0.999939</td>\n",
       "      <td>4.999707</td>\n",
       "      <td>4.999707</td>\n",
       "      <td></td>\n",
       "      <td>0.999939</td>\n",
       "      <td>0.999939</td>\n",
       "    </tr>\n",
       "    <tr>\n",
       "      <th>-3.707</th>\n",
       "      <td>0.999641</td>\n",
       "      <td>4.998882</td>\n",
       "      <td>4.998882</td>\n",
       "      <td></td>\n",
       "      <td>0.999641</td>\n",
       "      <td></td>\n",
       "    </tr>\n",
       "    <tr>\n",
       "      <th>-3.706</th>\n",
       "      <td>0.999343</td>\n",
       "      <td>4.998056</td>\n",
       "      <td>4.998056</td>\n",
       "      <td></td>\n",
       "      <td>0.999343</td>\n",
       "      <td></td>\n",
       "    </tr>\n",
       "    <tr>\n",
       "      <th>-3.705</th>\n",
       "      <td>0.999045</td>\n",
       "      <td>4.997230</td>\n",
       "      <td>4.997230</td>\n",
       "      <td></td>\n",
       "      <td>0.999045</td>\n",
       "      <td></td>\n",
       "    </tr>\n",
       "    <tr>\n",
       "      <th>-3.704</th>\n",
       "      <td>0.998747</td>\n",
       "      <td>4.996404</td>\n",
       "      <td>4.996404</td>\n",
       "      <td></td>\n",
       "      <td>0.998747</td>\n",
       "      <td></td>\n",
       "    </tr>\n",
       "    <tr>\n",
       "      <th>-3.703</th>\n",
       "      <td>0.998449</td>\n",
       "      <td>4.995578</td>\n",
       "      <td>4.995578</td>\n",
       "      <td></td>\n",
       "      <td>0.998449</td>\n",
       "      <td></td>\n",
       "    </tr>\n",
       "    <tr>\n",
       "      <th>-3.702</th>\n",
       "      <td>0.998151</td>\n",
       "      <td>4.994752</td>\n",
       "      <td>4.994752</td>\n",
       "      <td></td>\n",
       "      <td>0.998151</td>\n",
       "      <td></td>\n",
       "    </tr>\n",
       "    <tr>\n",
       "      <th>-3.701</th>\n",
       "      <td>0.997853</td>\n",
       "      <td>4.993926</td>\n",
       "      <td>4.993926</td>\n",
       "      <td></td>\n",
       "      <td>0.997853</td>\n",
       "      <td></td>\n",
       "    </tr>\n",
       "    <tr>\n",
       "      <th>-3.700</th>\n",
       "      <td>0.997556</td>\n",
       "      <td>4.993100</td>\n",
       "      <td>4.993100</td>\n",
       "      <td></td>\n",
       "      <td>0.997556</td>\n",
       "      <td></td>\n",
       "    </tr>\n",
       "    <tr>\n",
       "      <th>-3.699</th>\n",
       "      <td>0.997258</td>\n",
       "      <td>4.992274</td>\n",
       "      <td>4.992274</td>\n",
       "      <td></td>\n",
       "      <td>0.997258</td>\n",
       "      <td></td>\n",
       "    </tr>\n",
       "    <tr>\n",
       "      <th>-3.698</th>\n",
       "      <td>0.996960</td>\n",
       "      <td>4.991448</td>\n",
       "      <td>4.991448</td>\n",
       "      <td></td>\n",
       "      <td>0.996960</td>\n",
       "      <td></td>\n",
       "    </tr>\n",
       "    <tr>\n",
       "      <th>-3.697</th>\n",
       "      <td>0.996662</td>\n",
       "      <td>4.990622</td>\n",
       "      <td>4.990622</td>\n",
       "      <td></td>\n",
       "      <td>0.996662</td>\n",
       "      <td></td>\n",
       "    </tr>\n",
       "    <tr>\n",
       "      <th>-3.696</th>\n",
       "      <td>0.996365</td>\n",
       "      <td>4.989796</td>\n",
       "      <td>4.989796</td>\n",
       "      <td></td>\n",
       "      <td>0.996365</td>\n",
       "      <td></td>\n",
       "    </tr>\n",
       "    <tr>\n",
       "      <th>-3.695</th>\n",
       "      <td>0.996067</td>\n",
       "      <td>4.988970</td>\n",
       "      <td>4.988970</td>\n",
       "      <td></td>\n",
       "      <td>0.996067</td>\n",
       "      <td></td>\n",
       "    </tr>\n",
       "    <tr>\n",
       "      <th>-3.694</th>\n",
       "      <td>0.995770</td>\n",
       "      <td>4.988144</td>\n",
       "      <td>4.988144</td>\n",
       "      <td></td>\n",
       "      <td>0.995770</td>\n",
       "      <td></td>\n",
       "    </tr>\n",
       "    <tr>\n",
       "      <th>-3.693</th>\n",
       "      <td>0.995472</td>\n",
       "      <td>4.987318</td>\n",
       "      <td>4.987318</td>\n",
       "      <td></td>\n",
       "      <td>0.995472</td>\n",
       "      <td></td>\n",
       "    </tr>\n",
       "    <tr>\n",
       "      <th>-3.692</th>\n",
       "      <td>0.995175</td>\n",
       "      <td>4.986491</td>\n",
       "      <td>4.986491</td>\n",
       "      <td></td>\n",
       "      <td>0.995175</td>\n",
       "      <td></td>\n",
       "    </tr>\n",
       "    <tr>\n",
       "      <th>-3.691</th>\n",
       "      <td>0.994877</td>\n",
       "      <td>4.985665</td>\n",
       "      <td>4.985665</td>\n",
       "      <td></td>\n",
       "      <td>0.994877</td>\n",
       "      <td></td>\n",
       "    </tr>\n",
       "    <tr>\n",
       "      <th>-3.690</th>\n",
       "      <td>0.994580</td>\n",
       "      <td>4.984839</td>\n",
       "      <td>4.984839</td>\n",
       "      <td></td>\n",
       "      <td>0.994580</td>\n",
       "      <td></td>\n",
       "    </tr>\n",
       "    <tr>\n",
       "      <th>-3.689</th>\n",
       "      <td>0.994283</td>\n",
       "      <td>4.984013</td>\n",
       "      <td>4.984013</td>\n",
       "      <td></td>\n",
       "      <td>0.994283</td>\n",
       "      <td></td>\n",
       "    </tr>\n",
       "    <tr>\n",
       "      <th>-3.688</th>\n",
       "      <td>0.993985</td>\n",
       "      <td>4.983187</td>\n",
       "      <td>4.983187</td>\n",
       "      <td></td>\n",
       "      <td>0.993985</td>\n",
       "      <td></td>\n",
       "    </tr>\n",
       "    <tr>\n",
       "      <th>-3.687</th>\n",
       "      <td>0.993688</td>\n",
       "      <td>4.982360</td>\n",
       "      <td>4.982360</td>\n",
       "      <td></td>\n",
       "      <td>0.993688</td>\n",
       "      <td></td>\n",
       "    </tr>\n",
       "    <tr>\n",
       "      <th>-3.686</th>\n",
       "      <td>0.993391</td>\n",
       "      <td>4.981534</td>\n",
       "      <td>4.981534</td>\n",
       "      <td></td>\n",
       "      <td>0.993391</td>\n",
       "      <td></td>\n",
       "    </tr>\n",
       "    <tr>\n",
       "      <th>-3.685</th>\n",
       "      <td>0.993094</td>\n",
       "      <td>4.980708</td>\n",
       "      <td>4.980708</td>\n",
       "      <td></td>\n",
       "      <td>0.993094</td>\n",
       "      <td></td>\n",
       "    </tr>\n",
       "    <tr>\n",
       "      <th>-3.684</th>\n",
       "      <td>0.992797</td>\n",
       "      <td>4.979881</td>\n",
       "      <td>4.979881</td>\n",
       "      <td></td>\n",
       "      <td>0.992797</td>\n",
       "      <td></td>\n",
       "    </tr>\n",
       "    <tr>\n",
       "      <th>-3.683</th>\n",
       "      <td>0.992500</td>\n",
       "      <td>4.979055</td>\n",
       "      <td>4.979055</td>\n",
       "      <td></td>\n",
       "      <td>0.992500</td>\n",
       "      <td></td>\n",
       "    </tr>\n",
       "    <tr>\n",
       "      <th>-3.682</th>\n",
       "      <td>0.992203</td>\n",
       "      <td>4.978229</td>\n",
       "      <td>4.978229</td>\n",
       "      <td></td>\n",
       "      <td>0.992203</td>\n",
       "      <td></td>\n",
       "    </tr>\n",
       "    <tr>\n",
       "      <th>-3.681</th>\n",
       "      <td>0.991906</td>\n",
       "      <td>4.977402</td>\n",
       "      <td>4.977402</td>\n",
       "      <td></td>\n",
       "      <td>0.991906</td>\n",
       "      <td></td>\n",
       "    </tr>\n",
       "    <tr>\n",
       "      <th>-3.680</th>\n",
       "      <td>0.991609</td>\n",
       "      <td>4.976576</td>\n",
       "      <td>4.976576</td>\n",
       "      <td></td>\n",
       "      <td>0.991609</td>\n",
       "      <td></td>\n",
       "    </tr>\n",
       "    <tr>\n",
       "      <th>-3.679</th>\n",
       "      <td>0.991312</td>\n",
       "      <td>4.975750</td>\n",
       "      <td>4.975750</td>\n",
       "      <td></td>\n",
       "      <td>0.991312</td>\n",
       "      <td></td>\n",
       "    </tr>\n",
       "    <tr>\n",
       "      <th>...</th>\n",
       "      <td>...</td>\n",
       "      <td>...</td>\n",
       "      <td>...</td>\n",
       "      <td>...</td>\n",
       "      <td>...</td>\n",
       "      <td>...</td>\n",
       "    </tr>\n",
       "    <tr>\n",
       "      <th>0.851</th>\n",
       "      <td>0.102627</td>\n",
       "      <td>1.026858</td>\n",
       "      <td>1.026858</td>\n",
       "      <td></td>\n",
       "      <td>0.102627</td>\n",
       "      <td></td>\n",
       "    </tr>\n",
       "    <tr>\n",
       "      <th>0.852</th>\n",
       "      <td>0.102531</td>\n",
       "      <td>1.025941</td>\n",
       "      <td>1.025941</td>\n",
       "      <td></td>\n",
       "      <td>0.102531</td>\n",
       "      <td></td>\n",
       "    </tr>\n",
       "    <tr>\n",
       "      <th>0.853</th>\n",
       "      <td>0.102436</td>\n",
       "      <td>1.025024</td>\n",
       "      <td>1.025024</td>\n",
       "      <td></td>\n",
       "      <td>0.102436</td>\n",
       "      <td></td>\n",
       "    </tr>\n",
       "    <tr>\n",
       "      <th>0.854</th>\n",
       "      <td>0.102340</td>\n",
       "      <td>1.024107</td>\n",
       "      <td>1.024107</td>\n",
       "      <td></td>\n",
       "      <td>0.102340</td>\n",
       "      <td></td>\n",
       "    </tr>\n",
       "    <tr>\n",
       "      <th>0.855</th>\n",
       "      <td>0.102245</td>\n",
       "      <td>1.023190</td>\n",
       "      <td>1.023190</td>\n",
       "      <td></td>\n",
       "      <td>0.102245</td>\n",
       "      <td></td>\n",
       "    </tr>\n",
       "    <tr>\n",
       "      <th>0.856</th>\n",
       "      <td>0.102150</td>\n",
       "      <td>1.022273</td>\n",
       "      <td>1.022273</td>\n",
       "      <td></td>\n",
       "      <td>0.102150</td>\n",
       "      <td></td>\n",
       "    </tr>\n",
       "    <tr>\n",
       "      <th>0.857</th>\n",
       "      <td>0.102054</td>\n",
       "      <td>1.021356</td>\n",
       "      <td>1.021356</td>\n",
       "      <td></td>\n",
       "      <td>0.102054</td>\n",
       "      <td></td>\n",
       "    </tr>\n",
       "    <tr>\n",
       "      <th>0.858</th>\n",
       "      <td>0.101959</td>\n",
       "      <td>1.020438</td>\n",
       "      <td>1.020438</td>\n",
       "      <td></td>\n",
       "      <td>0.101959</td>\n",
       "      <td></td>\n",
       "    </tr>\n",
       "    <tr>\n",
       "      <th>0.859</th>\n",
       "      <td>0.101864</td>\n",
       "      <td>1.019521</td>\n",
       "      <td>1.019521</td>\n",
       "      <td></td>\n",
       "      <td>0.101864</td>\n",
       "      <td></td>\n",
       "    </tr>\n",
       "    <tr>\n",
       "      <th>0.860</th>\n",
       "      <td>0.101769</td>\n",
       "      <td>1.018604</td>\n",
       "      <td>1.018604</td>\n",
       "      <td></td>\n",
       "      <td>0.101769</td>\n",
       "      <td></td>\n",
       "    </tr>\n",
       "    <tr>\n",
       "      <th>0.861</th>\n",
       "      <td>0.101674</td>\n",
       "      <td>1.017687</td>\n",
       "      <td>1.017687</td>\n",
       "      <td></td>\n",
       "      <td>0.101674</td>\n",
       "      <td></td>\n",
       "    </tr>\n",
       "    <tr>\n",
       "      <th>0.862</th>\n",
       "      <td>0.101579</td>\n",
       "      <td>1.016770</td>\n",
       "      <td>1.016770</td>\n",
       "      <td></td>\n",
       "      <td>0.101579</td>\n",
       "      <td></td>\n",
       "    </tr>\n",
       "    <tr>\n",
       "      <th>0.863</th>\n",
       "      <td>0.101484</td>\n",
       "      <td>1.015852</td>\n",
       "      <td>1.015852</td>\n",
       "      <td></td>\n",
       "      <td>0.101484</td>\n",
       "      <td></td>\n",
       "    </tr>\n",
       "    <tr>\n",
       "      <th>0.864</th>\n",
       "      <td>0.101389</td>\n",
       "      <td>1.014935</td>\n",
       "      <td>1.014935</td>\n",
       "      <td></td>\n",
       "      <td>0.101389</td>\n",
       "      <td></td>\n",
       "    </tr>\n",
       "    <tr>\n",
       "      <th>0.865</th>\n",
       "      <td>0.101294</td>\n",
       "      <td>1.014018</td>\n",
       "      <td>1.014018</td>\n",
       "      <td></td>\n",
       "      <td>0.101294</td>\n",
       "      <td></td>\n",
       "    </tr>\n",
       "    <tr>\n",
       "      <th>0.866</th>\n",
       "      <td>0.101199</td>\n",
       "      <td>1.013100</td>\n",
       "      <td>1.013100</td>\n",
       "      <td></td>\n",
       "      <td>0.101199</td>\n",
       "      <td></td>\n",
       "    </tr>\n",
       "    <tr>\n",
       "      <th>0.867</th>\n",
       "      <td>0.101104</td>\n",
       "      <td>1.012183</td>\n",
       "      <td>1.012183</td>\n",
       "      <td></td>\n",
       "      <td>0.101104</td>\n",
       "      <td></td>\n",
       "    </tr>\n",
       "    <tr>\n",
       "      <th>0.868</th>\n",
       "      <td>0.101009</td>\n",
       "      <td>1.011266</td>\n",
       "      <td>1.011266</td>\n",
       "      <td></td>\n",
       "      <td>0.101009</td>\n",
       "      <td></td>\n",
       "    </tr>\n",
       "    <tr>\n",
       "      <th>0.869</th>\n",
       "      <td>0.100915</td>\n",
       "      <td>1.010348</td>\n",
       "      <td>1.010348</td>\n",
       "      <td></td>\n",
       "      <td>0.100915</td>\n",
       "      <td></td>\n",
       "    </tr>\n",
       "    <tr>\n",
       "      <th>0.870</th>\n",
       "      <td>0.100820</td>\n",
       "      <td>1.009431</td>\n",
       "      <td>1.009431</td>\n",
       "      <td></td>\n",
       "      <td>0.100820</td>\n",
       "      <td></td>\n",
       "    </tr>\n",
       "    <tr>\n",
       "      <th>0.871</th>\n",
       "      <td>0.100725</td>\n",
       "      <td>1.008514</td>\n",
       "      <td>1.008514</td>\n",
       "      <td></td>\n",
       "      <td>0.100725</td>\n",
       "      <td></td>\n",
       "    </tr>\n",
       "    <tr>\n",
       "      <th>0.872</th>\n",
       "      <td>0.100631</td>\n",
       "      <td>1.007596</td>\n",
       "      <td>1.007596</td>\n",
       "      <td></td>\n",
       "      <td>0.100631</td>\n",
       "      <td></td>\n",
       "    </tr>\n",
       "    <tr>\n",
       "      <th>0.873</th>\n",
       "      <td>0.100536</td>\n",
       "      <td>1.006679</td>\n",
       "      <td>1.006679</td>\n",
       "      <td></td>\n",
       "      <td>0.100536</td>\n",
       "      <td></td>\n",
       "    </tr>\n",
       "    <tr>\n",
       "      <th>0.874</th>\n",
       "      <td>0.100442</td>\n",
       "      <td>1.005761</td>\n",
       "      <td>1.005761</td>\n",
       "      <td></td>\n",
       "      <td>0.100442</td>\n",
       "      <td></td>\n",
       "    </tr>\n",
       "    <tr>\n",
       "      <th>0.875</th>\n",
       "      <td>0.100347</td>\n",
       "      <td>1.004844</td>\n",
       "      <td>1.004844</td>\n",
       "      <td></td>\n",
       "      <td>0.100347</td>\n",
       "      <td></td>\n",
       "    </tr>\n",
       "    <tr>\n",
       "      <th>0.876</th>\n",
       "      <td>0.100253</td>\n",
       "      <td>1.003926</td>\n",
       "      <td>1.003926</td>\n",
       "      <td></td>\n",
       "      <td>0.100253</td>\n",
       "      <td></td>\n",
       "    </tr>\n",
       "    <tr>\n",
       "      <th>0.877</th>\n",
       "      <td>0.100158</td>\n",
       "      <td>1.003009</td>\n",
       "      <td>1.003009</td>\n",
       "      <td></td>\n",
       "      <td>0.100158</td>\n",
       "      <td></td>\n",
       "    </tr>\n",
       "    <tr>\n",
       "      <th>0.878</th>\n",
       "      <td>0.100064</td>\n",
       "      <td>1.002091</td>\n",
       "      <td>1.002091</td>\n",
       "      <td></td>\n",
       "      <td>0.100064</td>\n",
       "      <td></td>\n",
       "    </tr>\n",
       "    <tr>\n",
       "      <th>0.879</th>\n",
       "      <td>0.099970</td>\n",
       "      <td>1.001174</td>\n",
       "      <td>1.001174</td>\n",
       "      <td></td>\n",
       "      <td>0.099970</td>\n",
       "      <td></td>\n",
       "    </tr>\n",
       "    <tr>\n",
       "      <th>0.880</th>\n",
       "      <td>0.099876</td>\n",
       "      <td>1.000256</td>\n",
       "      <td>1.000256</td>\n",
       "      <td>1.00026</td>\n",
       "      <td>0.099876</td>\n",
       "      <td></td>\n",
       "    </tr>\n",
       "  </tbody>\n",
       "</table>\n",
       "<p>4589 rows × 6 columns</p>\n",
       "</div>"
      ],
      "text/plain": [
       "          f1/f1*    f2/f2*  max(f_i/f_i*) min(max(f_i/f_i*))  min(f_i/f_i*)  \\\n",
       "-3.708  0.999939  4.999707       4.999707                          0.999939   \n",
       "-3.707  0.999641  4.998882       4.998882                          0.999641   \n",
       "-3.706  0.999343  4.998056       4.998056                          0.999343   \n",
       "-3.705  0.999045  4.997230       4.997230                          0.999045   \n",
       "-3.704  0.998747  4.996404       4.996404                          0.998747   \n",
       "-3.703  0.998449  4.995578       4.995578                          0.998449   \n",
       "-3.702  0.998151  4.994752       4.994752                          0.998151   \n",
       "-3.701  0.997853  4.993926       4.993926                          0.997853   \n",
       "-3.700  0.997556  4.993100       4.993100                          0.997556   \n",
       "-3.699  0.997258  4.992274       4.992274                          0.997258   \n",
       "-3.698  0.996960  4.991448       4.991448                          0.996960   \n",
       "-3.697  0.996662  4.990622       4.990622                          0.996662   \n",
       "-3.696  0.996365  4.989796       4.989796                          0.996365   \n",
       "-3.695  0.996067  4.988970       4.988970                          0.996067   \n",
       "-3.694  0.995770  4.988144       4.988144                          0.995770   \n",
       "-3.693  0.995472  4.987318       4.987318                          0.995472   \n",
       "-3.692  0.995175  4.986491       4.986491                          0.995175   \n",
       "-3.691  0.994877  4.985665       4.985665                          0.994877   \n",
       "-3.690  0.994580  4.984839       4.984839                          0.994580   \n",
       "-3.689  0.994283  4.984013       4.984013                          0.994283   \n",
       "-3.688  0.993985  4.983187       4.983187                          0.993985   \n",
       "-3.687  0.993688  4.982360       4.982360                          0.993688   \n",
       "-3.686  0.993391  4.981534       4.981534                          0.993391   \n",
       "-3.685  0.993094  4.980708       4.980708                          0.993094   \n",
       "-3.684  0.992797  4.979881       4.979881                          0.992797   \n",
       "-3.683  0.992500  4.979055       4.979055                          0.992500   \n",
       "-3.682  0.992203  4.978229       4.978229                          0.992203   \n",
       "-3.681  0.991906  4.977402       4.977402                          0.991906   \n",
       "-3.680  0.991609  4.976576       4.976576                          0.991609   \n",
       "-3.679  0.991312  4.975750       4.975750                          0.991312   \n",
       "...          ...       ...            ...                ...            ...   \n",
       " 0.851  0.102627  1.026858       1.026858                          0.102627   \n",
       " 0.852  0.102531  1.025941       1.025941                          0.102531   \n",
       " 0.853  0.102436  1.025024       1.025024                          0.102436   \n",
       " 0.854  0.102340  1.024107       1.024107                          0.102340   \n",
       " 0.855  0.102245  1.023190       1.023190                          0.102245   \n",
       " 0.856  0.102150  1.022273       1.022273                          0.102150   \n",
       " 0.857  0.102054  1.021356       1.021356                          0.102054   \n",
       " 0.858  0.101959  1.020438       1.020438                          0.101959   \n",
       " 0.859  0.101864  1.019521       1.019521                          0.101864   \n",
       " 0.860  0.101769  1.018604       1.018604                          0.101769   \n",
       " 0.861  0.101674  1.017687       1.017687                          0.101674   \n",
       " 0.862  0.101579  1.016770       1.016770                          0.101579   \n",
       " 0.863  0.101484  1.015852       1.015852                          0.101484   \n",
       " 0.864  0.101389  1.014935       1.014935                          0.101389   \n",
       " 0.865  0.101294  1.014018       1.014018                          0.101294   \n",
       " 0.866  0.101199  1.013100       1.013100                          0.101199   \n",
       " 0.867  0.101104  1.012183       1.012183                          0.101104   \n",
       " 0.868  0.101009  1.011266       1.011266                          0.101009   \n",
       " 0.869  0.100915  1.010348       1.010348                          0.100915   \n",
       " 0.870  0.100820  1.009431       1.009431                          0.100820   \n",
       " 0.871  0.100725  1.008514       1.008514                          0.100725   \n",
       " 0.872  0.100631  1.007596       1.007596                          0.100631   \n",
       " 0.873  0.100536  1.006679       1.006679                          0.100536   \n",
       " 0.874  0.100442  1.005761       1.005761                          0.100442   \n",
       " 0.875  0.100347  1.004844       1.004844                          0.100347   \n",
       " 0.876  0.100253  1.003926       1.003926                          0.100253   \n",
       " 0.877  0.100158  1.003009       1.003009                          0.100158   \n",
       " 0.878  0.100064  1.002091       1.002091                          0.100064   \n",
       " 0.879  0.099970  1.001174       1.001174                          0.099970   \n",
       " 0.880  0.099876  1.000256       1.000256            1.00026       0.099876   \n",
       "\n",
       "       max(min(f_i/f_i*))  \n",
       "-3.708           0.999939  \n",
       "-3.707                     \n",
       "-3.706                     \n",
       "-3.705                     \n",
       "-3.704                     \n",
       "-3.703                     \n",
       "-3.702                     \n",
       "-3.701                     \n",
       "-3.700                     \n",
       "-3.699                     \n",
       "-3.698                     \n",
       "-3.697                     \n",
       "-3.696                     \n",
       "-3.695                     \n",
       "-3.694                     \n",
       "-3.693                     \n",
       "-3.692                     \n",
       "-3.691                     \n",
       "-3.690                     \n",
       "-3.689                     \n",
       "-3.688                     \n",
       "-3.687                     \n",
       "-3.686                     \n",
       "-3.685                     \n",
       "-3.684                     \n",
       "-3.683                     \n",
       "-3.682                     \n",
       "-3.681                     \n",
       "-3.680                     \n",
       "-3.679                     \n",
       "...                   ...  \n",
       " 0.851                     \n",
       " 0.852                     \n",
       " 0.853                     \n",
       " 0.854                     \n",
       " 0.855                     \n",
       " 0.856                     \n",
       " 0.857                     \n",
       " 0.858                     \n",
       " 0.859                     \n",
       " 0.860                     \n",
       " 0.861                     \n",
       " 0.862                     \n",
       " 0.863                     \n",
       " 0.864                     \n",
       " 0.865                     \n",
       " 0.866                     \n",
       " 0.867                     \n",
       " 0.868                     \n",
       " 0.869                     \n",
       " 0.870                     \n",
       " 0.871                     \n",
       " 0.872                     \n",
       " 0.873                     \n",
       " 0.874                     \n",
       " 0.875                     \n",
       " 0.876                     \n",
       " 0.877                     \n",
       " 0.878                     \n",
       " 0.879                     \n",
       " 0.880                     \n",
       "\n",
       "[4589 rows x 6 columns]"
      ]
     },
     "execution_count": 10,
     "metadata": {},
     "output_type": "execute_result"
    }
   ],
   "source": [
    "df_1 = pd.DataFrame(index=x_Pareto_0_001)\n",
    "df_1['f1/f1*'] = f1(x_Pareto_0_001)/f1_star\n",
    "df_1['f2/f2*'] = f2(x_Pareto_0_001)/f2_star\n",
    "df_1['max(f_i/f_i*)'] = max_df_1(df_1['f1/f1*'], df_1['f2/f2*'])\n",
    "df_1['min(max(f_i/f_i*))']=''\n",
    "for i in range(0,df_1.shape[0]):\n",
    "    if df_1['max(f_i/f_i*)'].iloc[i]==min(df_1['max(f_i/f_i*)']):\n",
    "        df_1['min(max(f_i/f_i*))'].iloc[i] = min(df_1['max(f_i/f_i*)'])\n",
    "df_1['min(f_i/f_i*)'] = min_df_1(df_1['f1/f1*'], df_1['f2/f2*'])\n",
    "df_1['max(min(f_i/f_i*))']=''\n",
    "for i in range(0,df_1.shape[0]):\n",
    "    if df_1['min(f_i/f_i*)'].iloc[i]==max(df_1['min(f_i/f_i*)']):\n",
    "        df_1['max(min(f_i/f_i*))'].iloc[i] = max(df_1['min(f_i/f_i*)'])\n",
    "df_1"
   ]
  },
  {
   "cell_type": "code",
   "execution_count": 11,
   "metadata": {
    "collapsed": false,
    "scrolled": true
   },
   "outputs": [
    {
     "name": "stdout",
     "output_type": "stream",
     "text": [
      "Точки перетину f1/f1* та f2/f2*:\n"
     ]
    },
    {
     "data": {
      "image/png": "[encoded data removed]",
      "text/latex": [
       "$$\\left [ -25.7234499785868, \\quad 1.93034653031098\\right ]$$"
      ],
      "text/plain": [
       "[-25.7234499785868, 1.93034653031098]"
      ]
     },
     "execution_count": 11,
     "metadata": {},
     "output_type": "execute_result"
    },
    {
     "data": {
      "text/plain": [
       "<matplotlib.figure.Figure at 0x7f0724b2fcd0>"
      ]
     },
     "metadata": {},
     "output_type": "display_data"
    },
    {
     "data": {
      "image/png": "[encoded data removed]",
      "text/plain": [
       "<matplotlib.figure.Figure at 0x7f0724b2fc90>"
      ]
     },
     "metadata": {},
     "output_type": "display_data"
    }
   ],
   "source": [
    "plt.figure(2)\n",
    "fig2, ax2 = plt.subplots()\n",
    "plt.plot(x_0_01,f1(x_0_01)/45, '#810541', x_0_01, f2(x_0_01)/10, 'r')\n",
    "plt.xticks(np.arange(-5,4,0.5))\n",
    "plt.grid(True)\n",
    "plt.title('f1/f1*, f2/f2* & Pareto area')\n",
    "ax2.fill_between(np.linspace(float(sp.solve(9-6*x+x**2 - 45, x)[1]),float(sp.solve(18 - 9*x - 0.1*x**2 - 10, x)[1]), 100), -20,70, facecolor='#FDD7E4')\n",
    "maroon_patch = mpatches.Patch(color='#810541', label=\"f1(x)/f1*\")\n",
    "red_patch = mpatches.Patch(color='r', label='f2(x)/f2*')\n",
    "plt.legend(handles=[maroon_patch, red_patch])\n",
    "\n",
    "print(\"Точки перетину f1/f1* та f2/f2*:\")\n",
    "sp.solve((18 - 9*x - 0.1*x**2)/10 - (9-6*x+x**2)/45, x)"
   ]
  },
  {
   "cell_type": "markdown",
   "metadata": {},
   "source": [
    "Можемо бачити, що метод технічних обмежень не звужує множину Парето, оскільки внаслідок використання принципів макcиміна/мінімакса, отримуємо множину, що містить дві точки і лежить ПОЗА множиною Парето.\n",
    "А оскільки ми розглядаємо дані функції на лише множині Парето (бо її нам потрібно звузити) і, відповідно до теорії, множина Парето лежить між двома точками, в яких досягаються $\\min_x\\max_i\\frac{f_i}{f_i^*}$ та  $\\max_x\\min_i\\frac{f_i}{f_i^*}$, то, як видно з графіка, множина Парето лежить між точками $-3\\sqrt{5}+3$ та $\\sqrt{2105}-45$."
   ]
  },
  {
   "cell_type": "markdown",
   "metadata": {},
   "source": [
    "Отже, множина Парето: $[-3\\sqrt{5}+3, \\sqrt{2105}-45]$."
   ]
  },
  {
   "cell_type": "markdown",
   "metadata": {},
   "source": [
    "### Завдання 2"
   ]
  },
  {
   "cell_type": "code",
   "execution_count": 169,
   "metadata": {
    "collapsed": true
   },
   "outputs": [],
   "source": [
    "f1 = lambda x, y: 6*(3*x**2 + 5*x*y + 4*x)/5\n",
    "f2 = lambda x, y: -4*x**2 + 2*x*y + 0.25*y**3 + 3\n",
    "x_min = 1\n",
    "x_max = 5\n",
    "num_0_02 = int((x_max - x_min)/0.02)+1\n",
    "x_0_02 = np.linspace(x_min,x_max, num_0_02)"
   ]
  },
  {
   "cell_type": "markdown",
   "metadata": {},
   "source": [
    "Табличний метод"
   ]
  },
  {
   "cell_type": "code",
   "execution_count": 170,
   "metadata": {
    "collapsed": false
   },
   "outputs": [],
   "source": [
    "df_2 = pd.DataFrame(index=range(len(x_0_02)*len(x_0_02)))"
   ]
  },
  {
   "cell_type": "code",
   "execution_count": 171,
   "metadata": {
    "collapsed": false
   },
   "outputs": [],
   "source": [
    "def fill_table_with_x(df):\n",
    "    for i in range(len(x_0_02)):\n",
    "        df.iloc[i*len(x_0_02):(i+1)*len(x_0_02), 0] = x_0_02[i]\n",
    "        df.iloc[i*len(x_0_02):(i+1)*len(x_0_02), 1] = x_0_02[0:len(x_0_02)]\n",
    "    return 0"
   ]
  },
  {
   "cell_type": "code",
   "execution_count": 172,
   "metadata": {
    "collapsed": false
   },
   "outputs": [
    {
     "data": {
      "image/png": "[encoded data removed]",
      "text/latex": [
       "$$0$$"
      ],
      "text/plain": [
       "0"
      ]
     },
     "execution_count": 172,
     "metadata": {},
     "output_type": "execute_result"
    }
   ],
   "source": [
    "df_2['x1']=0\n",
    "df_2['x2']=0\n",
    "fill_table_with_x(df_2)"
   ]
  },
  {
   "cell_type": "code",
   "execution_count": 173,
   "metadata": {
    "collapsed": false
   },
   "outputs": [
    {
     "data": {
      "text/html": [
       "<div>\n",
       "<table border=\"1\" class=\"dataframe\">\n",
       "  <thead>\n",
       "    <tr style=\"text-align: right;\">\n",
       "      <th></th>\n",
       "      <th>x1</th>\n",
       "      <th>x2</th>\n",
       "      <th>f1(x1,x2)</th>\n",
       "      <th>f2(x1,x2)</th>\n",
       "    </tr>\n",
       "  </thead>\n",
       "  <tbody>\n",
       "    <tr>\n",
       "      <th>0</th>\n",
       "      <td>1.0</td>\n",
       "      <td>1.00</td>\n",
       "      <td>14.40</td>\n",
       "      <td>1.250000</td>\n",
       "    </tr>\n",
       "    <tr>\n",
       "      <th>1</th>\n",
       "      <td>1.0</td>\n",
       "      <td>1.02</td>\n",
       "      <td>14.52</td>\n",
       "      <td>1.305302</td>\n",
       "    </tr>\n",
       "    <tr>\n",
       "      <th>2</th>\n",
       "      <td>1.0</td>\n",
       "      <td>1.04</td>\n",
       "      <td>14.64</td>\n",
       "      <td>1.361216</td>\n",
       "    </tr>\n",
       "    <tr>\n",
       "      <th>3</th>\n",
       "      <td>1.0</td>\n",
       "      <td>1.06</td>\n",
       "      <td>14.76</td>\n",
       "      <td>1.417754</td>\n",
       "    </tr>\n",
       "    <tr>\n",
       "      <th>4</th>\n",
       "      <td>1.0</td>\n",
       "      <td>1.08</td>\n",
       "      <td>14.88</td>\n",
       "      <td>1.474928</td>\n",
       "    </tr>\n",
       "    <tr>\n",
       "      <th>5</th>\n",
       "      <td>1.0</td>\n",
       "      <td>1.10</td>\n",
       "      <td>15.00</td>\n",
       "      <td>1.532750</td>\n",
       "    </tr>\n",
       "    <tr>\n",
       "      <th>6</th>\n",
       "      <td>1.0</td>\n",
       "      <td>1.12</td>\n",
       "      <td>15.12</td>\n",
       "      <td>1.591232</td>\n",
       "    </tr>\n",
       "    <tr>\n",
       "      <th>7</th>\n",
       "      <td>1.0</td>\n",
       "      <td>1.14</td>\n",
       "      <td>15.24</td>\n",
       "      <td>1.650386</td>\n",
       "    </tr>\n",
       "    <tr>\n",
       "      <th>8</th>\n",
       "      <td>1.0</td>\n",
       "      <td>1.16</td>\n",
       "      <td>15.36</td>\n",
       "      <td>1.710224</td>\n",
       "    </tr>\n",
       "    <tr>\n",
       "      <th>9</th>\n",
       "      <td>1.0</td>\n",
       "      <td>1.18</td>\n",
       "      <td>15.48</td>\n",
       "      <td>1.770758</td>\n",
       "    </tr>\n",
       "  </tbody>\n",
       "</table>\n",
       "</div>"
      ],
      "text/plain": [
       "    x1    x2  f1(x1,x2)  f2(x1,x2)\n",
       "0  1.0  1.00      14.40   1.250000\n",
       "1  1.0  1.02      14.52   1.305302\n",
       "2  1.0  1.04      14.64   1.361216\n",
       "3  1.0  1.06      14.76   1.417754\n",
       "4  1.0  1.08      14.88   1.474928\n",
       "5  1.0  1.10      15.00   1.532750\n",
       "6  1.0  1.12      15.12   1.591232\n",
       "7  1.0  1.14      15.24   1.650386\n",
       "8  1.0  1.16      15.36   1.710224\n",
       "9  1.0  1.18      15.48   1.770758"
      ]
     },
     "execution_count": 173,
     "metadata": {},
     "output_type": "execute_result"
    }
   ],
   "source": [
    "df_2['f1(x1,x2)'] = f1(df_2['x1'], df_2['x2'])\n",
    "df_2['f2(x1,x2)'] = f2(df_2['x1'], df_2['x2'])\n",
    "df_2.head(10)"
   ]
  },
  {
   "cell_type": "code",
   "execution_count": 174,
   "metadata": {
    "collapsed": false
   },
   "outputs": [],
   "source": [
    "df_2['min_x2(f1(x1,x2))'] = 0\n",
    "for i in range(len(x_0_02)):\n",
    "    min_x2 = min( df_2.iloc[ np.where(df_2['x1']==x_0_02[i])[0], 2] )\n",
    "    df_2.iloc[np.where(df_2['x1']==x_0_02[i])[0], 4]= min_x2"
   ]
  },
  {
   "cell_type": "code",
   "execution_count": 175,
   "metadata": {
    "collapsed": true
   },
   "outputs": [],
   "source": [
    "max_x1_min_x2 = max(pd.to_numeric(df_2['min_x2(f1(x1,x2))'], errors='coerce'))\n",
    "df_2['max_x1_min_x2(f1(x1,x2))']=max_x1_min_x2"
   ]
  },
  {
   "cell_type": "code",
   "execution_count": 176,
   "metadata": {
    "collapsed": true
   },
   "outputs": [],
   "source": [
    "df_2['min_x1(f2(x1,x2))'] = 0\n",
    "for i in range(len(x_0_02)):\n",
    "    min_x1 = min( df_2.iloc[ np.where(df_2['x2']==x_0_02[i])[0], 3] )\n",
    "    df_2.iloc[np.where(df_2['x2']==x_0_02[i])[0], 6]= min_x1"
   ]
  },
  {
   "cell_type": "code",
   "execution_count": 177,
   "metadata": {
    "collapsed": true
   },
   "outputs": [],
   "source": [
    "max_x2_min_x1 = max(pd.to_numeric(df_2['min_x1(f2(x1,x2))'], errors='coerce'))\n",
    "df_2['max_x2_min_x1(f2(x1,x2))']=max_x2_min_x1"
   ]
  },
  {
   "cell_type": "code",
   "execution_count": 178,
   "metadata": {
    "collapsed": false,
    "scrolled": true
   },
   "outputs": [
    {
     "data": {
      "text/html": [
       "<div>\n",
       "<table border=\"1\" class=\"dataframe\">\n",
       "  <thead>\n",
       "    <tr style=\"text-align: right;\">\n",
       "      <th></th>\n",
       "      <th>x1</th>\n",
       "      <th>x2</th>\n",
       "      <th>f1(x1,x2)</th>\n",
       "      <th>f2(x1,x2)</th>\n",
       "      <th>min_x2(f1(x1,x2))</th>\n",
       "      <th>max_x1_min_x2(f1(x1,x2))</th>\n",
       "      <th>min_x1(f2(x1,x2))</th>\n",
       "      <th>max_x2_min_x1(f2(x1,x2))</th>\n",
       "    </tr>\n",
       "  </thead>\n",
       "  <tbody>\n",
       "    <tr>\n",
       "      <th>30240</th>\n",
       "      <td>4.0</td>\n",
       "      <td>2.8</td>\n",
       "      <td>144.0</td>\n",
       "      <td>-33.112</td>\n",
       "      <td>100.8</td>\n",
       "      <td>144.0</td>\n",
       "      <td>-63.512</td>\n",
       "      <td>-15.75</td>\n",
       "    </tr>\n",
       "    <tr>\n",
       "      <th>40200</th>\n",
       "      <td>5.0</td>\n",
       "      <td>1.0</td>\n",
       "      <td>144.0</td>\n",
       "      <td>-86.750</td>\n",
       "      <td>144.0</td>\n",
       "      <td>144.0</td>\n",
       "      <td>-86.750</td>\n",
       "      <td>-15.75</td>\n",
       "    </tr>\n",
       "  </tbody>\n",
       "</table>\n",
       "</div>"
      ],
      "text/plain": [
       "        x1   x2  f1(x1,x2)  f2(x1,x2)  min_x2(f1(x1,x2))  \\\n",
       "30240  4.0  2.8      144.0    -33.112              100.8   \n",
       "40200  5.0  1.0      144.0    -86.750              144.0   \n",
       "\n",
       "       max_x1_min_x2(f1(x1,x2))  min_x1(f2(x1,x2))  max_x2_min_x1(f2(x1,x2))  \n",
       "30240                     144.0            -63.512                    -15.75  \n",
       "40200                     144.0            -86.750                    -15.75  "
      ]
     },
     "execution_count": 178,
     "metadata": {},
     "output_type": "execute_result"
    }
   ],
   "source": [
    "df_2.iloc[np.where(df_2['max_x1_min_x2(f1(x1,x2))']==df_2['f1(x1,x2)'])]"
   ]
  },
  {
   "cell_type": "markdown",
   "metadata": {},
   "source": [
    "Але х2=2.8 не є точкою мінімума при х1=4.0, тож єдиним розв'язком є х1=5.0, х2=1.0."
   ]
  },
  {
   "cell_type": "code",
   "execution_count": 179,
   "metadata": {
    "collapsed": false
   },
   "outputs": [
    {
     "data": {
      "text/html": [
       "<div>\n",
       "<table border=\"1\" class=\"dataframe\">\n",
       "  <thead>\n",
       "    <tr style=\"text-align: right;\">\n",
       "      <th></th>\n",
       "      <th>x1</th>\n",
       "      <th>x2</th>\n",
       "      <th>f1(x1,x2)</th>\n",
       "      <th>f2(x1,x2)</th>\n",
       "      <th>min_x2(f1(x1,x2))</th>\n",
       "      <th>max_x1_min_x2(f1(x1,x2))</th>\n",
       "      <th>min_x1(f2(x1,x2))</th>\n",
       "      <th>max_x2_min_x1(f2(x1,x2))</th>\n",
       "    </tr>\n",
       "  </thead>\n",
       "  <tbody>\n",
       "    <tr>\n",
       "      <th>40400</th>\n",
       "      <td>5.0</td>\n",
       "      <td>5.0</td>\n",
       "      <td>264.0</td>\n",
       "      <td>-15.75</td>\n",
       "      <td>144.0</td>\n",
       "      <td>144.0</td>\n",
       "      <td>-15.75</td>\n",
       "      <td>-15.75</td>\n",
       "    </tr>\n",
       "  </tbody>\n",
       "</table>\n",
       "</div>"
      ],
      "text/plain": [
       "        x1   x2  f1(x1,x2)  f2(x1,x2)  min_x2(f1(x1,x2))  \\\n",
       "40400  5.0  5.0      264.0     -15.75              144.0   \n",
       "\n",
       "       max_x1_min_x2(f1(x1,x2))  min_x1(f2(x1,x2))  max_x2_min_x1(f2(x1,x2))  \n",
       "40400                     144.0             -15.75                    -15.75  "
      ]
     },
     "execution_count": 179,
     "metadata": {},
     "output_type": "execute_result"
    }
   ],
   "source": [
    "df_2.iloc[np.where(df_2['max_x2_min_x1(f2(x1,x2))']==df_2['f2(x1,x2)'])]"
   ]
  },
  {
   "cell_type": "markdown",
   "metadata": {},
   "source": [
    "Графічний метод"
   ]
  },
  {
   "cell_type": "code",
   "execution_count": 180,
   "metadata": {
    "collapsed": false
   },
   "outputs": [],
   "source": [
    "x2_12345 = df_2.iloc[np.where(df_2['x1']==1.)[0], 1]\n",
    "y1_1 = df_2.iloc[np.where(df_2['x1']==1.)[0], 2]\n",
    "y1_2 = df_2.iloc[np.where(df_2['x1']==2.)[0], 2]\n",
    "y1_3 = df_2.iloc[np.where(df_2['x1']==3.)[0], 2]\n",
    "y1_4 = df_2.iloc[np.where(df_2['x1']==4.)[0], 2]\n",
    "y1_5 = df_2.iloc[np.where(df_2['x1']==5.)[0], 2]"
   ]
  },
  {
   "cell_type": "code",
   "execution_count": 164,
   "metadata": {
    "collapsed": false,
    "scrolled": true
   },
   "outputs": [
    {
     "data": {
      "text/plain": [
       "<matplotlib.legend.Legend at 0x7fa276207ad0>"
      ]
     },
     "execution_count": 164,
     "metadata": {},
     "output_type": "execute_result"
    },
    {
     "data": {
      "text/plain": [
       "<matplotlib.figure.Figure at 0x7fa275c089d0>"
      ]
     },
     "metadata": {},
     "output_type": "display_data"
    },
    {
     "data": {
      "image/png": "[encoded data removed]",
      "text/plain": [
       "<matplotlib.figure.Figure at 0x7fa275c08950>"
      ]
     },
     "metadata": {},
     "output_type": "display_data"
    }
   ],
   "source": [
    "plt.figure(1)\n",
    "fig1, ax1 = plt.subplots()\n",
    "plt.plot(x2_12345,y1_1,'b', x2_12345,y1_2,'r', x2_12345,y1_3,'k', x2_12345,y1_4,'g', x2_12345,y1_5,'y')\n",
    "blue_patch = mpatches.Patch(color='blue', label=\"f1(1, x2)\")\n",
    "yellow_patch = mpatches.Patch(color='yellow', label='f1(5, x2)')\n",
    "plt.legend(handles=[blue_patch, yellow_patch])"
   ]
  },
  {
   "cell_type": "markdown",
   "metadata": {},
   "source": [
    "Як бачимо, максимальний мінімум функції f1 досягається при х1=5 і х2=1, і дорівнює 120."
   ]
  },
  {
   "cell_type": "code",
   "execution_count": 162,
   "metadata": {
    "collapsed": true
   },
   "outputs": [],
   "source": [
    "x1_12345 = df_2.iloc[np.where(df_2['x1']==1.)[0], 1]\n",
    "y2_1 = df_2.iloc[np.where(df_2['x2']==1.)[0], 3]\n",
    "y2_2 = df_2.iloc[np.where(df_2['x2']==2.)[0], 3]\n",
    "y2_3 = df_2.iloc[np.where(df_2['x2']==3.)[0], 3]\n",
    "y2_4 = df_2.iloc[np.where(df_2['x2']==4.)[0], 3]\n",
    "y2_5 = df_2.iloc[np.where(df_2['x2']==5.)[0], 3]"
   ]
  },
  {
   "cell_type": "code",
   "execution_count": 165,
   "metadata": {
    "collapsed": false
   },
   "outputs": [
    {
     "data": {
      "text/plain": [
       "<matplotlib.legend.Legend at 0x7fa275e6b490>"
      ]
     },
     "execution_count": 165,
     "metadata": {},
     "output_type": "execute_result"
    },
    {
     "data": {
      "text/plain": [
       "<matplotlib.figure.Figure at 0x7fa275624f90>"
      ]
     },
     "metadata": {},
     "output_type": "display_data"
    },
    {
     "data": {
      "image/png": "[encoded data removed]",
      "text/plain": [
       "<matplotlib.figure.Figure at 0x7fa27621d1d0>"
      ]
     },
     "metadata": {},
     "output_type": "display_data"
    }
   ],
   "source": [
    "plt.figure(2)\n",
    "fig1, ax1 = plt.subplots()\n",
    "plt.plot(x2_12345,y2_1,'b', x2_12345,y2_2,'r', x2_12345,y2_3,'k', x2_12345,y2_4,'g', x2_12345,y2_5,'y')\n",
    "blue_patch = mpatches.Patch(color='blue', label=\"f2(x1, 1)\")\n",
    "yellow_patch = mpatches.Patch(color='yellow', label='f2(x1, 5)')\n",
    "plt.legend(handles=[blue_patch, yellow_patch])"
   ]
  },
  {
   "cell_type": "markdown",
   "metadata": {},
   "source": [
    "Як бачимо, максимальний мінімум функції f2 досягається при х2=5 і х1=5, і дорівнює -15.75."
   ]
  },
  {
   "cell_type": "code",
   "execution_count": null,
   "metadata": {
    "collapsed": true
   },
   "outputs": [],
   "source": []
  }
 ],
 "metadata": {
  "kernelspec": {
   "display_name": "Python [Root]",
   "language": "python",
   "name": "Python [Root]"
  },
  "language_info": {
   "codemirror_mode": {
    "name": "ipython",
    "version": 2
   },
   "file_extension": ".py",
   "mimetype": "text/x-python",
   "name": "python",
   "nbconvert_exporter": "python",
   "pygments_lexer": "ipython2",
   "version": "2.7.12"
  }
 },
 "nbformat": 4,
 "nbformat_minor": 0
}
